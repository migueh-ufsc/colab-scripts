{
  "nbformat": 4,
  "nbformat_minor": 0,
  "metadata": {
    "colab": {
      "provenance": []
    },
    "kernelspec": {
      "name": "python3",
      "display_name": "Python 3"
    },
    "language_info": {
      "name": "python"
    }
  },
  "cells": [
    {
      "cell_type": "code",
      "source": [
        "# imports\n",
        "import pandas as pd\n",
        "import numpy as np\n",
        "import matplotlib.pyplot as plt\n",
        "import seaborn as sns\n",
        "import json\n",
        "\n",
        "# Variaveis\n",
        "user_json_path = '/content/drive/MyDrive/Colab Notebooks/Twibot22 - Dataset completo/user.json'\n",
        "label_csv_path = '/content/drive/MyDrive/Colab Notebooks/Twibot22 - Dataset completo/label.csv'\n",
        "test_path = '/content/drive/MyDrive/Colab Notebooks/Twibot22 - Dataset completo/test.json'\n",
        "full_sample_label_path = '/content/drive/MyDrive/Colab Notebooks/Twibot22 - Dataset completo/200k_user_sample_labels.csv'\n",
        "\n",
        "num_bots = 500\n",
        "num_humans = 500\n",
        "\n",
        "# Carrega arquivo de anotações (id, label)\n",
        "label_dt = pd.read_csv(label_csv_path)\n",
        "label_dt['id'] = label_dt['id'].str.lstrip('u')\n",
        "print(label_dt.head())\n",
        "\n",
        "full_sample_label_dt = pd.read_csv(full_sample_label_path)\n",
        "ids_to_remove = full_sample_label_dt['id'].str.lstrip('u')\n",
        "label_dt = label_dt[~label_dt['id'].isin(ids_to_remove)]\n",
        "print(label_dt.info())\n",
        "\n",
        "# Amostra de cada subconjunto\n",
        "sample_bots = label_dt[label_dt['label'] == 'bot'].sample(n=num_bots)\n",
        "sample_humans = label_dt[label_dt['label'] == 'human'].sample(n=num_humans)\n",
        "\n",
        "sample_bots.to_csv('/content/drive/MyDrive/Colab Notebooks/Twibot22 - Dataset completo/test_bots.csv', index=False)\n",
        "sample_humans.to_csv('/content/drive/MyDrive/Colab Notebooks/Twibot22 - Dataset completo/test_humans.csv', index=False)\n",
        "\n",
        "# Combina as amostras\n",
        "sample = pd.concat([sample_bots, sample_humans])\n",
        "sample.to_csv('/content/drive/MyDrive/Colab Notebooks/Twibot22 - Dataset completo/test.csv')\n",
        "\n",
        "sample['id'] = sample['id'].astype(str)\n",
        "\n",
        "# Carrega arquivo com os dados completos de usuários\n",
        "with open(user_json_path, 'r') as arquivo_json:\n",
        "    dados_json = json.load(arquivo_json)\n",
        "\n",
        "users_df = pd.DataFrame(dados_json)\n",
        "\n",
        "# Seleciona somente os usuários da amostra\n",
        "full_sample = sample.merge(users_df, on='id', how='left')\n",
        "\n",
        "# Converte o DataFrame para uma lista de dicionários\n",
        "data_as_dict = full_sample.to_dict(orient='records')\n",
        "\n",
        "# Salva os dados em JSON sem codificação Unicode\n",
        "with open(test_path, 'w', encoding='utf-8') as file:\n",
        "    json.dump(data_as_dict, file, ensure_ascii=False, indent=4)"
      ],
      "metadata": {
        "id": "sIG8QblFEvSO",
        "colab": {
          "base_uri": "https://localhost:8080/"
        },
        "outputId": "e66b8527-460c-4728-bb08-7e3c43fed9f4"
      },
      "execution_count": null,
      "outputs": [
        {
          "output_type": "stream",
          "name": "stdout",
          "text": [
            "                    id  label\n",
            "0  1217628182611927040  human\n",
            "1           2664730894  human\n",
            "2  1266703520205549568  human\n",
            "3  1089159225148882949  human\n",
            "4             36741729    bot\n",
            "<class 'pandas.core.frame.DataFrame'>\n",
            "Index: 800000 entries, 0 to 999999\n",
            "Data columns (total 2 columns):\n",
            " #   Column  Non-Null Count   Dtype \n",
            "---  ------  --------------   ----- \n",
            " 0   id      800000 non-null  object\n",
            " 1   label   800000 non-null  object\n",
            "dtypes: object(2)\n",
            "memory usage: 18.3+ MB\n",
            "None\n"
          ]
        }
      ]
    },
    {
      "cell_type": "code",
      "source": [
        "# imports\n",
        "import pandas as pd\n",
        "import numpy as np\n",
        "import matplotlib.pyplot as plt\n",
        "import seaborn as sns\n",
        "import json\n",
        "\n",
        "sample_bots = pd.read_csv('/content/drive/MyDrive/Colab Notebooks/Twibot22 - Dataset completo/test_bots.csv')\n",
        "sample_humans = pd.read_csv('/content/drive/MyDrive/Colab Notebooks/Twibot22 - Dataset completo/test_humans.csv')\n",
        "\n",
        "user_json_path = '/content/drive/MyDrive/Colab Notebooks/Twibot22 - Dataset completo/user.json'\n",
        "# Carrega arquivo com os dados completos de usuários\n",
        "with open(user_json_path, 'r') as arquivo_json:\n",
        "    dados_json = json.load(arquivo_json)\n",
        "\n",
        "users_df = pd.DataFrame(dados_json)\n",
        "\n",
        "# ids pra string\n",
        "sample_bots['id'] = sample_bots['id'].astype(str)\n",
        "sample_humans['id'] = sample_humans['id'].astype(str)\n",
        "users_df['id'] = users_df['id'].astype(str).str.strip('u')\n",
        "\n",
        "full_bot_sample = sample_bots.merge(users_df, on='id', how='left')\n",
        "full_human_sample = sample_humans.merge(users_df, on='id', how='left')\n",
        "\n",
        "with open('/content/drive/MyDrive/Colab Notebooks/Twibot22 - Dataset completo/test_bots.json', 'w', encoding='utf-8') as file:\n",
        "    json.dump(full_bot_sample.to_dict(orient='records'), file, ensure_ascii=False, indent=2)\n",
        "\n",
        "with open('/content/drive/MyDrive/Colab Notebooks/Twibot22 - Dataset completo/test_humans.json', 'w', encoding='utf-8') as file:\n",
        "    json.dump(full_human_sample.to_dict(orient='records'), file, ensure_ascii=False, indent=2)"
      ],
      "metadata": {
        "id": "045B44J4eLD2"
      },
      "execution_count": null,
      "outputs": []
    }
  ]
}