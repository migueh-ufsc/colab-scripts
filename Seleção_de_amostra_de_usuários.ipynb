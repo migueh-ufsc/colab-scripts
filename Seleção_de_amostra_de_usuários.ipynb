{
  "nbformat": 4,
  "nbformat_minor": 0,
  "metadata": {
    "colab": {
      "provenance": []
    },
    "kernelspec": {
      "name": "python3",
      "display_name": "Python 3"
    },
    "language_info": {
      "name": "python"
    }
  },
  "cells": [
    {
      "cell_type": "code",
      "source": [
        "# imports\n",
        "import pandas as pd\n",
        "import numpy as np\n",
        "import matplotlib.pyplot as plt\n",
        "import seaborn as sns\n",
        "import json\n",
        "\n",
        "# Variaveis\n",
        "user_json_path = '/content/drive/MyDrive/Colab Notebooks/Twibot22 - Dataset completo/user.json'\n",
        "label_csv_path = '/content/drive/MyDrive/Colab Notebooks/Twibot22 - Dataset completo/label.csv'\n",
        "user_ids_sample_path = '/content/drive/MyDrive/Colab Notebooks/Twibot22 - Dataset completo/user_sample.csv'\n",
        "user_sample_json_path = '/content/drive/MyDrive/Colab Notebooks/Twibot22 - Dataset completo/user_sample.json'\n",
        "\n",
        "num_bots = 100000\n",
        "num_humans = 100000\n",
        "\n",
        "# Carrega arquivo de anotações (id, label)\n",
        "label_dt = pd.read_csv(label_csv_path)\n",
        "label_dt.info()\n",
        "\n",
        "# Amostra de cada subconjunto\n",
        "sample_bots = label_dt[label_dt['label'] == 'bot'].sample(n=num_bots)\n",
        "sample_humans = label_dt[label_dt['label'] == 'human'].sample(n=num_humans)\n",
        "\n",
        "# Combina as amostras\n",
        "sample = pd.concat([sample_bots, sample_humans])\n",
        "\n",
        "# Salva em csv os ids da amostra\n",
        "sample.to_csv(user_ids_sample_path, index=False)\n",
        "\n",
        "# Carrega arquivo com os dados completos de usuários\n",
        "with open(user_json_path, 'r') as arquivo_json:\n",
        "    dados_json = json.load(arquivo_json)\n",
        "\n",
        "users_df = pd.DataFrame(dados_json)\n",
        "\n",
        "# Seleciona somente os usuários da amostra\n",
        "full_sample = sample.merge(users_df, on='id', how='left')\n",
        "\n",
        "# Converte o DataFrame para uma lista de dicionários\n",
        "data_as_dict = full_sample.to_dict(orient='records')\n",
        "\n",
        "# Salva os dados em JSON sem codificação Unicode\n",
        "with open(user_sample_json_path, 'w', encoding='utf-8') as file:\n",
        "    json.dump(data_as_dict, file, ensure_ascii=False, indent=4)"
      ],
      "metadata": {
        "id": "sIG8QblFEvSO"
      },
      "execution_count": null,
      "outputs": []
    }
  ]
}